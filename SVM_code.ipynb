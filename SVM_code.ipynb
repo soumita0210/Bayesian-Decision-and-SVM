{
 "cells": [
  {
   "cell_type": "markdown",
   "metadata": {
    "colab_type": "text",
    "id": "F5QU3uU5FBsc"
   },
   "source": [
    "**Importing MNIST dataset from keras and reshaping to feed to SVM**"
   ]
  },
  {
   "cell_type": "code",
   "execution_count": 1,
   "metadata": {
    "colab": {
     "base_uri": "https://localhost:8080/",
     "height": 80
    },
    "colab_type": "code",
    "id": "K0n__ozFEnE6",
    "outputId": "02dab37a-b39e-4a18-f5c6-b160be41e2ab"
   },
   "outputs": [
    {
     "name": "stderr",
     "output_type": "stream",
     "text": [
      "Using TensorFlow backend.\n"
     ]
    },
    {
     "data": {
      "text/html": [
       "<p style=\"color: red;\">\n",
       "The default version of TensorFlow in Colab will soon switch to TensorFlow 2.x.<br>\n",
       "We recommend you <a href=\"https://www.tensorflow.org/guide/migrate\" target=\"_blank\">upgrade</a> now \n",
       "or ensure your notebook will continue to use TensorFlow 1.x via the <code>%tensorflow_version 1.x</code> magic:\n",
       "<a href=\"https://colab.research.google.com/notebooks/tensorflow_version.ipynb\" target=\"_blank\">more info</a>.</p>\n"
      ],
      "text/plain": [
       "<IPython.core.display.HTML object>"
      ]
     },
     "metadata": {
      "tags": []
     },
     "output_type": "display_data"
    }
   ],
   "source": [
    "from keras.datasets import mnist\n",
    "from sklearn import model_selection,preprocessing,svm\n",
    "\n",
    "(inp_train,tar_train),(inp_test,tar_test)=mnist.load_data()\n",
    "\n",
    "inp_train=inp_train.reshape(60000,784)\n",
    "inp_test=inp_test.reshape(10000,784)\n",
    "\n"
   ]
  },
  {
   "cell_type": "markdown",
   "metadata": {
    "colab_type": "text",
    "id": "zQys8hlzFvZL"
   },
   "source": [
    "**Visualizing the shape of training and testing dataset**"
   ]
  },
  {
   "cell_type": "code",
   "execution_count": 2,
   "metadata": {
    "colab": {
     "base_uri": "https://localhost:8080/",
     "height": 34
    },
    "colab_type": "code",
    "id": "ojlRmQLaFjq5",
    "outputId": "a75414b6-725b-4910-9798-d304695e8437"
   },
   "outputs": [
    {
     "data": {
      "text/plain": [
       "(((60000, 784), (60000,)), ((10000, 784), (10000,)))"
      ]
     },
     "execution_count": 2,
     "metadata": {
      "tags": []
     },
     "output_type": "execute_result"
    }
   ],
   "source": [
    "(inp_train.shape,tar_train.shape),(inp_test.shape,tar_test.shape)"
   ]
  },
  {
   "cell_type": "markdown",
   "metadata": {
    "colab_type": "text",
    "id": "hbdty_clF18P"
   },
   "source": [
    "**Scaling the data to help SVM converge**"
   ]
  },
  {
   "cell_type": "code",
   "execution_count": 0,
   "metadata": {
    "colab": {},
    "colab_type": "code",
    "id": "y_uUlbzSF0jS"
   },
   "outputs": [],
   "source": [
    "inp_train=preprocessing.scale(inp_train)\n",
    "inp_test=preprocessing.scale(inp_test)\n"
   ]
  },
  {
   "cell_type": "markdown",
   "metadata": {
    "colab_type": "text",
    "id": "r88R8izmHjAI"
   },
   "source": [
    "**Building a SVM Linear Classifier with default parameter C=1.0**"
   ]
  },
  {
   "cell_type": "code",
   "execution_count": 4,
   "metadata": {
    "colab": {
     "base_uri": "https://localhost:8080/",
     "height": 85
    },
    "colab_type": "code",
    "id": "_Z1CCZBTGW8B",
    "outputId": "17ec88cc-314e-44d6-bff7-1687ec674341"
   },
   "outputs": [
    {
     "data": {
      "text/plain": [
       "SVC(C=1.0, break_ties=False, cache_size=200, class_weight=None, coef0=0.0,\n",
       "    decision_function_shape='ovr', degree=3, gamma='scale', kernel='linear',\n",
       "    max_iter=-1, probability=False, random_state=None, shrinking=True,\n",
       "    tol=0.001, verbose=False)"
      ]
     },
     "execution_count": 4,
     "metadata": {
      "tags": []
     },
     "output_type": "execute_result"
    }
   ],
   "source": [
    "svm_linear = svm.SVC(kernel='linear')\n",
    "svm_linear.fit(inp_train, tar_train)"
   ]
  },
  {
   "cell_type": "markdown",
   "metadata": {
    "colab_type": "text",
    "id": "xGU4S3V1IlrG"
   },
   "source": [
    "**Predicting and Calculating Accuracy**"
   ]
  },
  {
   "cell_type": "code",
   "execution_count": 0,
   "metadata": {
    "colab": {},
    "colab_type": "code",
    "id": "bpirjXsDIqVL"
   },
   "outputs": [],
   "source": [
    "predictions = svm_linear.predict(inp_test)"
   ]
  },
  {
   "cell_type": "code",
   "execution_count": 6,
   "metadata": {
    "colab": {
     "base_uri": "https://localhost:8080/",
     "height": 221
    },
    "colab_type": "code",
    "id": "3UuIjeYhI988",
    "outputId": "a3da7e56-eed4-4f2b-f24c-268ad32ceaab"
   },
   "outputs": [
    {
     "name": "stdout",
     "output_type": "stream",
     "text": [
      "[[ 953    0    6    2    1    8    6    2    1    1]\n",
      " [   0 1118    7    2    0    1    2    1    4    0]\n",
      " [   9   12  956   11    9    4    5    5   18    3]\n",
      " [   7    1   15  940    0   17    1    6   19    4]\n",
      " [   3    2   18    1  927    0    3    6    3   19]\n",
      " [   7    6    7   40    5  791   12    1   20    3]\n",
      " [  14    3   17    1    9   19  892    0    3    0]\n",
      " [   2    8   23   14   11    2    0  945    2   21]\n",
      " [  11    7   10   29    8   23    8    6  860   12]\n",
      " [   9    7    6   11   38    5    0   23   12  898]] \n",
      "\n",
      "Accuracy= 0.928\n"
     ]
    }
   ],
   "source": [
    "from sklearn import metrics\n",
    "\n",
    "confusion_matrix = metrics.confusion_matrix(tar_test,predictions)\n",
    "print(confusion_matrix,\"\\n\")\n",
    "print('Accuracy=',metrics.accuracy_score(tar_test,predictions))"
   ]
  },
  {
   "cell_type": "code",
   "execution_count": 7,
   "metadata": {
    "colab": {
     "base_uri": "https://localhost:8080/",
     "height": 323
    },
    "colab_type": "code",
    "id": "8xXo9qwbJKD7",
    "outputId": "4be5630f-3063-4d9b-cdac-677e78213e7a"
   },
   "outputs": [
    {
     "name": "stdout",
     "output_type": "stream",
     "text": [
      "Displaying Classification Report:\n",
      "               precision    recall  f1-score   support\n",
      "\n",
      "           0       0.94      0.97      0.96       980\n",
      "           1       0.96      0.99      0.97      1135\n",
      "           2       0.90      0.93      0.91      1032\n",
      "           3       0.89      0.93      0.91      1010\n",
      "           4       0.92      0.94      0.93       982\n",
      "           5       0.91      0.89      0.90       892\n",
      "           6       0.96      0.93      0.95       958\n",
      "           7       0.95      0.92      0.93      1028\n",
      "           8       0.91      0.88      0.90       974\n",
      "           9       0.93      0.89      0.91      1009\n",
      "\n",
      "    accuracy                           0.93     10000\n",
      "   macro avg       0.93      0.93      0.93     10000\n",
      "weighted avg       0.93      0.93      0.93     10000\n",
      "\n"
     ]
    }
   ],
   "source": [
    "print(\"Displaying Classification Report:\\n\",metrics.classification_report(y_true=tar_test, y_pred=predictions))"
   ]
  },
  {
   "cell_type": "markdown",
   "metadata": {
    "colab_type": "text",
    "id": "f3F7ZBuFK6L0"
   },
   "source": [
    "**Selecting hyperparameter 'C' with 3-fold cross-validation**"
   ]
  },
  {
   "cell_type": "code",
   "execution_count": 4,
   "metadata": {
    "colab": {
     "base_uri": "https://localhost:8080/",
     "height": 102
    },
    "colab_type": "code",
    "id": "Ku8hluCvK5GB",
    "outputId": "c9f9c505-778b-44aa-bbcf-074cb614ec6d"
   },
   "outputs": [
    {
     "name": "stdout",
     "output_type": "stream",
     "text": [
      "For C= 0.5  Cross-Validation Scores:  [0.9187  0.91935 0.921  ]\n",
      "For C= 1  Cross-Validation Scores:  [0.9154 0.9172 0.9185]\n",
      "For C= 2  Cross-Validation Scores:  [0.9135  0.9161  0.91545]\n",
      "For C= 3  Cross-Validation Scores:  [0.9133 0.9147 0.9154]\n",
      "For C= 10  Cross-Validation Scores:  [0.91095 0.91305 0.913  ]\n"
     ]
    }
   ],
   "source": [
    "from sklearn.model_selection import cross_val_score\n",
    "import numpy as np\n",
    "\n",
    "mean_scores=[]\n",
    "for c in [0.5,1,2,3,10]:\n",
    "\n",
    "  lsvm = svm.SVC(kernel='linear', C=c)\n",
    "  cv_scores = cross_val_score(lsvm, inp_train, tar_train, cv=3)\n",
    "  print('For C=',c,\" Cross-Validation Scores: \",cv_scores)\n",
    "  mean_scores.append(np.mean(cv_scores))\n"
   ]
  },
  {
   "cell_type": "code",
   "execution_count": 5,
   "metadata": {
    "colab": {
     "base_uri": "https://localhost:8080/",
     "height": 102
    },
    "colab_type": "code",
    "id": "3ZlEaaqGQGVk",
    "outputId": "67ca646e-8316-4fed-f688-e766a0b65bd4"
   },
   "outputs": [
    {
     "name": "stdout",
     "output_type": "stream",
     "text": [
      "For C= 0.5  Mean Cross-Validation Score:  0.9196833333333334\n",
      "For C= 1  Mean Cross-Validation Score:  0.9170333333333334\n",
      "For C= 2  Mean Cross-Validation Score:  0.9150166666666667\n",
      "For C= 3  Mean Cross-Validation Score:  0.9144666666666666\n",
      "For C= 10  Mean Cross-Validation Score:  0.9123333333333333\n"
     ]
    }
   ],
   "source": [
    "i=0\n",
    "for c in [0.5,1,2,3,10]:\n",
    "  print('For C=',c,\" Mean Cross-Validation Score: \",mean_scores[i])\n",
    "  i+=1"
   ]
  }
 ],
 "metadata": {
  "accelerator": "GPU",
  "colab": {
   "collapsed_sections": [],
   "name": "PR_A2.ipynb",
   "provenance": []
  },
  "kernelspec": {
   "display_name": "Python 3",
   "language": "python",
   "name": "python3"
  },
  "language_info": {
   "codemirror_mode": {
    "name": "ipython",
    "version": 3
   },
   "file_extension": ".py",
   "mimetype": "text/x-python",
   "name": "python",
   "nbconvert_exporter": "python",
   "pygments_lexer": "ipython3",
   "version": "3.7.3"
  }
 },
 "nbformat": 4,
 "nbformat_minor": 1
}
